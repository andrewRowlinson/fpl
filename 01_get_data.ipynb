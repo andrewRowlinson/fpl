{
 "cells": [
  {
   "cell_type": "code",
   "execution_count": null,
   "metadata": {},
   "outputs": [],
   "source": [
    "import pandas as pd\n",
    "import requests\n",
    "import json\n",
    "import os\n",
    "import time"
   ]
  },
  {
   "cell_type": "code",
   "execution_count": null,
   "metadata": {},
   "outputs": [],
   "source": [
    "r = requests.get('https://fantasy.premierleague.com/api/bootstrap-static/')"
   ]
  },
  {
   "cell_type": "code",
   "execution_count": null,
   "metadata": {},
   "outputs": [],
   "source": [
    "fpl_results = json.loads(r.content)"
   ]
  },
  {
   "cell_type": "code",
   "execution_count": null,
   "metadata": {},
   "outputs": [],
   "source": [
    "df_events = pd.DataFrame(fpl_results['events'])\n",
    "df_events.drop(['top_element_info', 'chip_plays'], axis=1, inplace=True)\n",
    "df_events.to_parquet(os.path.join('data', '2020', 'events.parquet'))"
   ]
  },
  {
   "cell_type": "code",
   "execution_count": null,
   "metadata": {},
   "outputs": [],
   "source": [
    "df_teams = pd.DataFrame(fpl_results['teams'])\n",
    "df_teams.to_parquet(os.path.join('data', '2020', 'teams.parquet'))"
   ]
  },
  {
   "cell_type": "code",
   "execution_count": null,
   "metadata": {},
   "outputs": [],
   "source": [
    "df_elements = pd.DataFrame(fpl_results['elements'])\n",
    "df_elements.to_parquet(os.path.join('data', '2020', 'elements.parquet'))"
   ]
  },
  {
   "cell_type": "code",
   "execution_count": null,
   "metadata": {},
   "outputs": [],
   "source": [
    "df_element_types = pd.DataFrame(fpl_results['element_types'])\n",
    "df_element_types.drop('sub_positions_locked', axis=1, inplace=True)\n",
    "df_element_types.to_parquet(os.path.join('data', '2020', 'element_types.parquet'))"
   ]
  },
  {
   "cell_type": "code",
   "execution_count": null,
   "metadata": {},
   "outputs": [],
   "source": [
    "url_base = 'https://fantasy.premierleague.com/api/element-summary/'"
   ]
  },
  {
   "cell_type": "code",
   "execution_count": null,
   "metadata": {},
   "outputs": [],
   "source": [
    "player_ids = df_elements.id.unique()"
   ]
  },
  {
   "cell_type": "code",
   "execution_count": null,
   "metadata": {},
   "outputs": [],
   "source": [
    "list_history = []\n",
    "list_history_past = []\n",
    "for player in player_ids:\n",
    "    print(player)\n",
    "    link = f'{url_base}{str(player)}/'\n",
    "    try:\n",
    "        r = requests.get(link)\n",
    "        fpl_results = json.loads(r.content)\n",
    "        df1 = pd.DataFrame(fpl_results['history'])\n",
    "        df2 = pd.DataFrame(fpl_results['history_past'])\n",
    "        df2['element'] = player\n",
    "        list_history.append(df1)\n",
    "        list_history_past.append(df2)\n",
    "    except:\n",
    "        print('Pass:', player)\n",
    "        pass\n",
    "    time.sleep(2)"
   ]
  },
  {
   "cell_type": "code",
   "execution_count": null,
   "metadata": {},
   "outputs": [],
   "source": [
    "df_history = pd.concat(list_history)\n",
    "df_history.reset_index(drop=True, inplace=True)\n",
    "df_history.to_parquet(os.path.join('data', '2020', 'history.parquet'))"
   ]
  },
  {
   "cell_type": "code",
   "execution_count": null,
   "metadata": {},
   "outputs": [],
   "source": [
    "df_history_past = pd.concat(list_history_past)\n",
    "df_history_past.reset_index(drop=True, inplace=True)\n",
    "df_history_past.to_parquet(os.path.join('data', '2020', 'history_past.parquet'))"
   ]
  }
 ],
 "metadata": {
  "kernelspec": {
   "display_name": "Python 3",
   "language": "python",
   "name": "python3"
  },
  "language_info": {
   "codemirror_mode": {
    "name": "ipython",
    "version": 3
   },
   "file_extension": ".py",
   "mimetype": "text/x-python",
   "name": "python",
   "nbconvert_exporter": "python",
   "pygments_lexer": "ipython3",
   "version": "3.7.9"
  }
 },
 "nbformat": 4,
 "nbformat_minor": 4
}
